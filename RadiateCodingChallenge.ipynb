{
  "nbformat": 4,
  "nbformat_minor": 0,
  "metadata": {
    "colab": {
      "name": "RadiateCodingChallenge.ipynb",
      "provenance": [],
      "collapsed_sections": []
    },
    "kernelspec": {
      "name": "python3",
      "display_name": "Python 3"
    },
    "language_info": {
      "name": "python"
    }
  },
  "cells": [
    {
      "cell_type": "code",
      "execution_count": 59,
      "metadata": {
        "id": "T-_yMdaBXhyk"
      },
      "outputs": [],
      "source": [
        "import numpy as np\n",
        "import urllib\n",
        "from PIL import Image as im\n"
      ]
    },
    {
      "cell_type": "code",
      "source": [
        "# Since every url request has a limit of 10000 numbers and we need (120*120*3)\n",
        "# i.e. 43,200 randomly generate numbers we will divide the work into 6 separate\n",
        "# calls. For every url request we will be generating 20 rows at a time\n",
        "# i.e. (120*20*3) = 7,200 random numbers\n",
        "data= generate20rows()\n",
        "for i in range(5):\n",
        "  data = np.concatenate((data, generate20rows()), axis = 0)\n",
        "\n",
        "# Generate the Image from the array we have created\n",
        "img = im.fromarray(data,'RGB')\n",
        "#Save the Image\n",
        "img.save(\"Output.png\")\n"
      ],
      "metadata": {
        "id": "O2ZZ0gaVa6QF"
      },
      "execution_count": 61,
      "outputs": []
    },
    {
      "cell_type": "code",
      "source": [
        "# Generates 20 rows of random pixels each of length 120. Since we want RGB values\n",
        "# we have to generate 3 random values between 0 and 255 for each pixel and store\n",
        "# it in an array\n",
        "def generate20rows():\n",
        "  # Define the URL with the proper values and send the Request\n",
        "  url = \"https://www.random.org/integers/?num=7200&min=0&max=255&col=3&base=10&format=plain&rnd=new\"\n",
        "  f = urllib.request.urlopen(url)\n",
        "  #Create the array with proper shape and set the initial values to 0\n",
        "  w, h = 20, 120\n",
        "  data = np.zeros((w,h,3), dtype=np.uint8)\n",
        "  r = 0\n",
        "  c = 0\n",
        "  # We set each line in the text output to have three values, we parse through \n",
        "  # each and create the pixel values from the values, we go column by column\n",
        "  # and fill out the equivalent data array\n",
        "  for line in f:\n",
        "    decoded = line.decode(\"utf-8\")\n",
        "    l = decoded[:-1].split('\\t')\n",
        "    for n in range(3):\n",
        "      l[n] = int(l[n])\n",
        "    data[r,c] = l\n",
        "    if c == 119:\n",
        "      r += 1\n",
        "      c = 0\n",
        "    else:\n",
        "      c += 1\n",
        "  # Output the 20 rows of 120 pixels with their corresponding randomly generated\n",
        "  # RGB value\n",
        "  return data\n"
      ],
      "metadata": {
        "id": "_3HiCXrzbkLO"
      },
      "execution_count": 60,
      "outputs": []
    },
    {
      "cell_type": "code",
      "source": [
        ""
      ],
      "metadata": {
        "id": "rzbyk1ulgQNk"
      },
      "execution_count": null,
      "outputs": []
    },
    {
      "cell_type": "code",
      "source": [
        ""
      ],
      "metadata": {
        "id": "mLUnD0t8gTff"
      },
      "execution_count": null,
      "outputs": []
    }
  ]
}